{
 "cells": [
  {
   "cell_type": "code",
   "execution_count": null,
   "metadata": {},
   "outputs": [],
   "source": [
    "import pandas as pd\n",
    "import numpy as np\n",
    "import seaborn as sns\n",
    "import matplotlib.pyplot as plt\n",
    "from sklearn.preprocessing import StandardScaler\n",
    "from sklearn.cluster import DBSCAN\n",
    "from sklearn.cluster import KMeans\n",
    "from sklearn.model_selection import train_test_split\n",
    "from sklearn.neighbors import NearestNeighbors\n",
    "from sklearn import preprocessing\n",
    "from sklearn import preprocessing\n",
    "from sklearn.ensemble import ExtraTreesClassifier\n",
    "from sklearn.ensemble import ExtraTreesRegressor\n",
    "from sklearn.feature_selection import SelectFromModel, GenericUnivariateSelect, chi2\n",
    "from sklearn.impute import SimpleImputer\n",
    "from sklearn.preprocessing import OrdinalEncoder, Normalizer\n",
    "from sklearn.cluster import KMeans, MiniBatchKMeans, OPTICS,AgglomerativeClustering,Birch\n",
    "from sklearn import metrics\n",
    "from sklearn.metrics import pairwise_distances\n",
    "from sklearn.neighbors import NearestNeighbors\n",
    "from sklearn.cluster import DBSCAN"
   ]
  },
  {
   "cell_type": "code",
   "execution_count": null,
   "metadata": {},
   "outputs": [],
   "source": [
    "df_consumos = pd.read_excel(\"consumos.xlsx\")\n",
    "df_sucursal = pd.read_excel(\"sucursal.xlsx\")"
   ]
  },
  {
   "cell_type": "code",
   "execution_count": null,
   "metadata": {},
   "outputs": [],
   "source": [
    "df_consumos[\"Posición\"] = df_consumos[\"Posición\"]/10\n",
    "df_consumos[\"Posición\"] = df_consumos[\"Posición\"].map(lambda x: int(x))"
   ]
  },
  {
   "cell_type": "code",
   "execution_count": null,
   "metadata": {},
   "outputs": [],
   "source": [
    "df_consumos.set_index([\"Posición\"], inplace=True)"
   ]
  },
  {
   "cell_type": "code",
   "execution_count": null,
   "metadata": {},
   "outputs": [],
   "source": [
    "df_sucursal.set_index([\"Codigo Sucursal\"], inplace=True)"
   ]
  },
  {
   "cell_type": "code",
   "execution_count": null,
   "metadata": {},
   "outputs": [],
   "source": [
    "df_final = df_consumos.join(df_sucursal, how=\"left\")"
   ]
  },
  {
   "cell_type": "code",
   "execution_count": null,
   "metadata": {},
   "outputs": [],
   "source": [
    "df_consumos.info()\n",
    "df_final.info()"
   ]
  },
  {
   "cell_type": "code",
   "execution_count": null,
   "metadata": {},
   "outputs": [],
   "source": [
    "df_final[\"Categoria2\"] = df_final[\"Categoria\"]\n",
    "df_final[\"Subsegmento2\"] = df_final[\"Subsegmento\"]"
   ]
  },
  {
   "cell_type": "code",
   "execution_count": null,
   "metadata": {},
   "outputs": [],
   "source": [
    "df_final_agrupado = df_final.groupby([\"Nombre de sucursal\", \"CIUDAD\"]).agg({\"Cantidad\": np.sum, \"Precio neto\": np.sum, \"Categoria\": pd.Series.nunique, \"Categoria2\": pd.Series.mode, \"Subsegmento\": pd.Series.nunique, \"Subsegmento2\": pd.Series.mode}).reset_index()"
   ]
  },
  {
   "cell_type": "code",
   "execution_count": null,
   "metadata": {},
   "outputs": [],
   "source": [
    "df_final[\"Documento compras\"].value_counts()"
   ]
  },
  {
   "cell_type": "code",
   "execution_count": null,
   "metadata": {},
   "outputs": [],
   "source": [
    "df_final_nombre = df_final_agrupado[\"Nombre de sucursal\"]\n",
    "df_final_modelo = df_final_agrupado[[\"CIUDAD\", \"Cantidad\", \"Categoria\", \"Precio neto\", \"Categoria\", \"Categoria2\", \"Subsegmento\", \"Subsegmento2\"]]\n",
    "df_final_modelo = df_final_modelo.dropna()"
   ]
  },
  {
   "cell_type": "code",
   "execution_count": null,
   "metadata": {},
   "outputs": [],
   "source": [
    "df_final_modelo.dtype"
   ]
  },
  {
   "cell_type": "code",
   "execution_count": null,
   "metadata": {},
   "outputs": [],
   "source": [
    "df_final_modelo['Categoria2'] = df_final_modelo['Categoria2'].map(lambda x: str(x))"
   ]
  },
  {
   "cell_type": "code",
   "execution_count": null,
   "metadata": {},
   "outputs": [],
   "source": [
    "df_final_referencia = pd.DataFrame(df_final_modelo.values,columns=df_final_modelo.columns)"
   ]
  },
  {
   "cell_type": "code",
   "execution_count": null,
   "metadata": {},
   "outputs": [],
   "source": [
    "le = preprocessing.LabelEncoder()\n",
    "df_final_modelo[\"CIUDAD\"] = le.fit_transform(df_final_modelo[\"CIUDAD\"])\n",
    "df_final_modelo[\"Categoria2\"] = le.fit_transform(df_final_modelo[\"Categoria2\"])\n",
    "df_final_modelo[\"Subsegmento2\"] = le.fit_transform(df_final_modelo[\"Subsegmento2\"])"
   ]
  },
  {
   "cell_type": "code",
   "execution_count": null,
   "metadata": {},
   "outputs": [],
   "source": [
    "df_final_modelo"
   ]
  },
  {
   "cell_type": "code",
   "execution_count": null,
   "metadata": {},
   "outputs": [],
   "source": [
    "df_final_modelo_est = StandardScaler().fit_transform(df_final_modelo)"
   ]
  },
  {
   "cell_type": "code",
   "execution_count": null,
   "metadata": {},
   "outputs": [],
   "source": [
    "df_final_modelo_est"
   ]
  },
  {
   "cell_type": "code",
   "execution_count": null,
   "metadata": {},
   "outputs": [],
   "source": [
    "neigh = NearestNeighbors()\n",
    "nbrs = neigh.fit(df_final_modelo_est)\n",
    "distances, indices = nbrs.kneighbors(df_final_modelo_est)\n",
    "\n",
    "distances = np.sort(distances, axis=0)\n",
    "distances = distances[:,1]\n",
    "\n",
    "#plt.figure(figsize=(12, 9))\n",
    "plt.plot(distances)\n",
    "plt.title(\"Distancia por punto\")\n",
    "plt.show()"
   ]
  },
  {
   "cell_type": "code",
   "execution_count": null,
   "metadata": {},
   "outputs": [],
   "source": [
    "## Analisis de Coeficiente de Silueta\n",
    "coeficiente_silueta = []\n",
    "K = range(2,7)\n",
    "for k in K:\n",
    "    kmeans = KMeans(n_clusters=k, random_state = 0).fit(df_final_modelo_est)\n",
    "    labels = kmeans.labels_\n",
    "    \n",
    "    coeficiente_silueta.append(metrics.silhouette_score(df_final_modelo_est, labels, metric='euclidean'))\n",
    "\n",
    " \n",
    "\n",
    "#plt.figure(figsize=(16,8))\n",
    "plt.plot(K, coeficiente_silueta, 'bx-')\n",
    "plt.xlabel('k')\n",
    "plt.ylabel('Distortion')\n",
    "plt.title('Coeficiente de silueta')\n",
    "plt.show()"
   ]
  },
  {
   "cell_type": "code",
   "execution_count": null,
   "metadata": {},
   "outputs": [],
   "source": [
    "# Iteración de Clusters\n",
    "distortions = []\n",
    "K = range(1,7)\n",
    "for k in K:\n",
    "    kmeanModel = KMeans(n_clusters=k)\n",
    "    kmeanModel.fit(df_final_modelo_est)\n",
    "    distortions.append(kmeanModel.inertia_)\n",
    "#plt.figure(figsize=(16,8))\n",
    "plt.plot(K, distortions, 'bx-')\n",
    "plt.xlabel('Cantidad de Clusters')\n",
    "plt.ylabel('Inercia')\n",
    "plt.title('Metodo del codo')\n",
    "plt.show()"
   ]
  },
  {
   "cell_type": "code",
   "execution_count": null,
   "metadata": {},
   "outputs": [],
   "source": [
    "kmeans4 = KMeans(n_clusters=6, random_state=0).fit(df_final_modelo_est)"
   ]
  },
  {
   "cell_type": "code",
   "execution_count": null,
   "metadata": {},
   "outputs": [],
   "source": [
    "resultado = kmeans4.predict(df_final_modelo_est)"
   ]
  },
  {
   "cell_type": "code",
   "execution_count": null,
   "metadata": {},
   "outputs": [],
   "source": [
    "plt.hist(resultado)\n",
    "plt.show()"
   ]
  },
  {
   "cell_type": "code",
   "execution_count": null,
   "metadata": {},
   "outputs": [],
   "source": [
    "df_cluster = df_final_referencia\n",
    "df_cluster[\"Sucursal\"] = df_final_nombre\n",
    "df_cluster[\"Resultado\"] = resultado"
   ]
  },
  {
   "cell_type": "code",
   "execution_count": null,
   "metadata": {},
   "outputs": [],
   "source": [
    "df_cluster[\"Resultado\"].value_counts()"
   ]
  },
  {
   "cell_type": "code",
   "execution_count": null,
   "metadata": {},
   "outputs": [],
   "source": [
    "df_cluster.to_excel(\"Df_cluster.xlsx\", index_label=False)"
   ]
  },
  {
   "cell_type": "code",
   "execution_count": null,
   "metadata": {},
   "outputs": [],
   "source": []
  }
 ],
 "metadata": {
  "kernelspec": {
   "display_name": "Python 3",
   "language": "python",
   "name": "python3"
  },
  "language_info": {
   "codemirror_mode": {
    "name": "ipython",
    "version": 3
   },
   "file_extension": ".py",
   "mimetype": "text/x-python",
   "name": "python",
   "nbconvert_exporter": "python",
   "pygments_lexer": "ipython3",
   "version": "3.7.6"
  }
 },
 "nbformat": 4,
 "nbformat_minor": 4
}
